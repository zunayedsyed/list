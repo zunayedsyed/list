{
 "cells": [
  {
   "cell_type": "code",
   "execution_count": 6,
   "metadata": {},
   "outputs": [
    {
     "name": "stdout",
     "output_type": "stream",
     "text": [
      "5\n",
      "[6, 7]\n",
      "[8]\n"
     ]
    }
   ],
   "source": [
    "a=[5,6,7,8]\n",
    "print(a[0])\n",
    "print(a[1:3])\n",
    "print(a[3:])"
   ]
  },
  {
   "cell_type": "code",
   "execution_count": 17,
   "metadata": {},
   "outputs": [
    {
     "name": "stdout",
     "output_type": "stream",
     "text": [
      "5\n",
      "number\n"
     ]
    }
   ],
   "source": [
    "# function list\n",
    "def l():\n",
    "    a=[5,6,7,8]\n",
    "    b=input()\n",
    "    b=int(b)\n",
    "    if b in a:\n",
    "        print(\"number\")\n",
    "    else:\n",
    "        print(\"error\")\n",
    "# function call\n",
    "l()"
   ]
  },
  {
   "cell_type": "code",
   "execution_count": 19,
   "metadata": {},
   "outputs": [
    {
     "name": "stdout",
     "output_type": "stream",
     "text": [
      "z\n",
      "u\n",
      "n\n",
      "a\n",
      "y\n",
      "e\n",
      "d\n"
     ]
    }
   ],
   "source": [
    "# loop\n",
    "n=\"zunayed\"\n",
    "for m in n:\n",
    "    print(m)"
   ]
  },
  {
   "cell_type": "code",
   "execution_count": 28,
   "metadata": {},
   "outputs": [
    {
     "name": "stdout",
     "output_type": "stream",
     "text": [
      "8\n",
      "13\n"
     ]
    }
   ],
   "source": [
    "a=[5,6,7,8]\n",
    "b=int(input())\n",
    "sum=5\n",
    "if b in a:\n",
    "    sum+=b\n",
    "    print(sum)\n",
    "else:\n",
    "    print(\"error\")"
   ]
  },
  {
   "cell_type": "code",
   "execution_count": 32,
   "metadata": {},
   "outputs": [],
   "source": [
    "# pluse\n",
    "def pluse(x,y):\n",
    "    z=x+y\n",
    "    print(z)"
   ]
  },
  {
   "cell_type": "code",
   "execution_count": 33,
   "metadata": {},
   "outputs": [
    {
     "name": "stdout",
     "output_type": "stream",
     "text": [
      "5\n",
      "6\n"
     ]
    }
   ],
   "source": [
    "x=int(input())\n",
    "y=int(input())"
   ]
  },
  {
   "cell_type": "code",
   "execution_count": 34,
   "metadata": {},
   "outputs": [
    {
     "name": "stdout",
     "output_type": "stream",
     "text": [
      "11\n"
     ]
    }
   ],
   "source": [
    "pluse(x,y)"
   ]
  },
  {
   "cell_type": "code",
   "execution_count": 51,
   "metadata": {},
   "outputs": [
    {
     "name": "stdout",
     "output_type": "stream",
     "text": [
      "13\n"
     ]
    }
   ],
   "source": [
    "x=[1,2,3,4]\n",
    "z=len(x)\n",
    "sum=9\n",
    "print(z+sum)"
   ]
  },
  {
   "cell_type": "code",
   "execution_count": 57,
   "metadata": {},
   "outputs": [
    {
     "name": "stdout",
     "output_type": "stream",
     "text": [
      "list ~~~\n",
      "[2, 3, 4]\n",
      "Answer= 20\n"
     ]
    }
   ],
   "source": [
    "x=[1,2,3,4]\n",
    "print(\"list ~~~\")\n",
    "print(x[1:4])\n",
    "y=len(x)\n",
    "sum=5\n",
    "print(\"Answer=\",y*sum)"
   ]
  },
  {
   "cell_type": "code",
   "execution_count": 69,
   "metadata": {},
   "outputs": [
    {
     "name": "stdout",
     "output_type": "stream",
     "text": [
      "chocolate\n",
      ":)\n"
     ]
    }
   ],
   "source": [
    "x=[\"chocolate\",\"chuingum\"]\n",
    "z=input()\n",
    "if z in x:\n",
    "    print(\":)\")\n",
    "\n",
    "else:\n",
    "    print(\":(\")"
   ]
  },
  {
   "cell_type": "code",
   "execution_count": null,
   "metadata": {},
   "outputs": [],
   "source": []
  }
 ],
 "metadata": {
  "kernelspec": {
   "display_name": "Python 3",
   "language": "python",
   "name": "python3"
  },
  "language_info": {
   "codemirror_mode": {
    "name": "ipython",
    "version": 3
   },
   "file_extension": ".py",
   "mimetype": "text/x-python",
   "name": "python",
   "nbconvert_exporter": "python",
   "pygments_lexer": "ipython3",
   "version": "3.8.5"
  }
 },
 "nbformat": 4,
 "nbformat_minor": 4
}
